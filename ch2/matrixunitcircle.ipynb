{
 "cells": [
  {
   "cell_type": "markdown",
   "id": "7bee1af5",
   "metadata": {},
   "source": [
    "# Matrix multiplication over the unit circle #"
   ]
  },
  {
   "cell_type": "markdown",
   "id": "4e63368e",
   "metadata": {},
   "source": [
    "Let's see a matrix multiply all vectors with norm 1. "
   ]
  },
  {
   "cell_type": "code",
   "execution_count": 2,
   "id": "823a8fee",
   "metadata": {},
   "outputs": [],
   "source": [
    "#import libraries\n",
    "import random\n",
    "import math\n",
    "\n",
    "import numpy as np\n",
    "import matplotlib.pyplot as plt\n",
    "\n",
    "\n",
    "import itertools\n",
    "import matplotlib.animation as animation\n",
    "\n",
    "from IPython.display import HTML"
   ]
  },
  {
   "cell_type": "code",
   "execution_count": 10,
   "id": "8851185b",
   "metadata": {},
   "outputs": [
    {
     "name": "stdout",
     "output_type": "stream",
     "text": [
      "[2.12132034 2.82842712]\n",
      "[1 3]\n"
     ]
    }
   ],
   "source": [
    "%matplotlib agg\n",
    "A = np.array([[2,1],[1,3]])\n",
    "x = np.array([np.sqrt(2)/2,np.sqrt(2)/2])\n",
    "\n",
    "b = np.matmul(A,x)\n",
    "print(b)\n",
    "\n",
    "b = np.matmul(A,np.array([0,1]))\n",
    "print(b)"
   ]
  },
  {
   "cell_type": "code",
   "execution_count": 14,
   "id": "1f004dfc",
   "metadata": {},
   "outputs": [
    {
     "name": "stdout",
     "output_type": "stream",
     "text": [
      "<generator object <genexpr> at 0x7fa452e15660>\n"
     ]
    }
   ],
   "source": [
    "X = np.array([np.cos(theta),np.sin(theta)] for theta in np.arange(2,2*np.pi,50))\n",
    "print(X)\n",
    "\n"
   ]
  },
  {
   "cell_type": "code",
   "execution_count": null,
   "id": "26869453",
   "metadata": {},
   "outputs": [],
   "source": [
    "#fig, ax = plt.subplots(1, 1, figsize = (6, 6))\n",
    "\n",
    "t = np.linspace(-1,1,40)\n",
    "\n",
    "f = np.cos(t*np.pi)\n",
    "g = t**3\n",
    "\n",
    "\n",
    "fig, ax = plt.subplots(1, 1, figsize = (6, 6))\n",
    "T=21\n",
    "\n",
    "ax.set_xlim([0,1]) # fix the x axis\n",
    "ax.set_ylim([-1.2,1.2]) # fix the y axis\n",
    "\n",
    "# plot the rest\n",
    "def animate(i):\n",
    "    ax.cla() # clear the previous image\n",
    "    plt.title(r\"$\\alpha$ cos$(2t) + (1-\\alpha)$ $t^3$\")\n",
    "    ax.set_xlim([-1.1,1.1]) # fix the x axis\n",
    "    ax.set_ylim([-1.2,1.2]) # fix the y axis\n",
    "    alpha = i/(T-1)\n",
    "    ax.plot(t,alpha*f + (1-alpha)*g)\n",
    "    plt.annotate(r\"$\\alpha=$\"+str(alpha), xy=(0.05, 0.95), xycoords='axes fraction')\n",
    "\n",
    "\n",
    "anim = animation.FuncAnimation(fig, animate, frames = T, interval = 250, blit = False)\n",
    "HTML(anim.to_jshtml())"
   ]
  }
 ],
 "metadata": {
  "kernelspec": {
   "display_name": "Python 3 (ipykernel)",
   "language": "python",
   "name": "python3"
  },
  "language_info": {
   "codemirror_mode": {
    "name": "ipython",
    "version": 3
   },
   "file_extension": ".py",
   "mimetype": "text/x-python",
   "name": "python",
   "nbconvert_exporter": "python",
   "pygments_lexer": "ipython3",
   "version": "3.9.13"
  }
 },
 "nbformat": 4,
 "nbformat_minor": 5
}
